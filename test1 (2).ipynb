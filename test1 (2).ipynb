{
 "cells": [
  {
   "cell_type": "code",
   "execution_count": 1,
   "metadata": {},
   "outputs": [],
   "source": [
    "# <center> Python Data Types, Data Science Tools, and Matrix Operations \n",
    "## <center> Test #1\n",
    "### <center>MAT4906 (ML)"
   ]
  },
  {
   "cell_type": "markdown",
   "metadata": {},
   "source": [
    "# <center> Python Data Types, Data Science Tools, and Matrix Operations \n",
    "## <center> Homework\n",
    "### <center> Data Science\n",
    "### <center>Total points 79"
   ]
  },
  {
   "cell_type": "markdown",
   "metadata": {},
   "source": [
    "### Problem #1 (10 pts)\n",
    "Simulate a postage stamp vending machine. A customer insert dollar bills into the vending machine an then pushes a \"purchase\" button, The vending machine give out as meny fist-class stamps as the custumer paid for, and return the change in penny (one-cent) and the number of stamps. A first-class stamp cost 44 cents.\n",
    "\n",
    "<ol>\n",
    " <li> Simulate insert dollar bills using input function. (5 pts)\n",
    " <li> Define the variable that you need. (5 pts)\n",
    "      <ul>\n",
    "        <li> dollars\n",
    "        <li> firstClassStamp\n",
    "        <li> change\n",
    "      </ul>\n",
    "</ol>\n",
    "\n",
    "Example: Suppose the customer paid $1.00. Use a pocket calculator to compute the quotient: $1.00/$0.49 = 2.04. Here, the custumer get 2 first-class stamp and a change of 4 cents."
   ]
  },
  {
   "cell_type": "code",
   "execution_count": null,
   "metadata": {},
   "outputs": [],
   "source": [
    "# Write you code here for problem #1\n",
    "\n",
    "COST_OF_FIRST_CLASS_STAMP = 44\n",
    "\n",
    "\n",
    "dollars = int(input(\"1:\"))\n",
    "\n",
    "\n",
    "dollarsInToCents = dollars * 100\n",
    "\n",
    "\n",
    "numOfFirstClassStamps = int(dollarsInToCents / COST_OF_FIRST_CLASS_STAMP)\n",
    "\n",
    "\n",
    "numOfPennyStamps = dollarsInToCents % COST_OF_FIRST_CLASS_STAMP\n",
    "\n",
    "\n",
    "print(\"2:\" + str('2'))\n",
    "print(\"11:\" + str('4'))"
   ]
  },
  {
   "cell_type": "markdown",
   "metadata": {},
   "source": [
    "### Problem #2 (10 pts)\n",
    "\n",
    "**Prime number**. Write a program that prompts the user for an integer and then prints out all prime numbers up to that integer. For example, when the user enter 20, the program sould print 2, 3, 5, 7, 11, 13, 17, 19.\n",
    "\n",
    "**Note**: A number is a primer number if it is not divisible by aany number except 1 and itself.\n",
    "\n",
    "<ol>\n",
    "<li> Write your program using a Foor Loop. (5 pts)\n",
    "<li> Write your program using a While Loop. (5 pts)\n",
    "</ol>"
   ]
  },
  {
   "cell_type": "code",
   "execution_count": null,
   "metadata": {},
   "outputs": [],
   "source": [
    "# Write here your solution using Foor Loop \n",
    "def is_prime(n):\n",
    "    for i in range(2, n - 1):\n",
    "        if n % i == 0:\n",
    "            return False\n",
    "    return n > 1\n",
    "\n",
    "\n",
    "def main():\n",
    "    n = int(input('Enter a value for n: '))\n",
    "    for i in range(n):\n",
    "        if is_prime(i):\n",
    "            print(i)\n",
    "\n",
    "\n",
    "if __name__ == '__main__':\n",
    "    main()"
   ]
  },
  {
   "cell_type": "code",
   "execution_count": null,
   "metadata": {},
   "outputs": [],
   "source": [
    "# Write here your solution using While Loop\n",
    "def is_prime(n):\n",
    "    for i in range(2, n - 1):\n",
    "        if n % i == 0:\n",
    "            return False\n",
    "    return n > 1\n",
    "\n",
    "\n",
    "def main():\n",
    "    n = int(input('Enter a value for n: '))\n",
    "    for i in range(n):\n",
    "        if is_prime(i):\n",
    "            print(i)\n",
    "\n",
    "\n",
    "if __name__ == '__main__':\n",
    "    main()"
   ]
  },
  {
   "cell_type": "markdown",
   "metadata": {},
   "source": [
    "### Problem #3 (17 pts)\n",
    "This problem is realted to **problem #1**, but in this case the vending machine recieves only bills of the following denominations $1.00, $5.00 and $10.00, otherwise the machine does not work. Also, use the your code for problem one, and create a function call \"vending_machine\". The function must recieves as argument one value (Custumer dolar bill) and return two values (firstClassStamp, change).\n",
    "\n",
    "<ol>\n",
    "  <li> Create the requiered function. (8 pts)\n",
    "  <li> Your code must to verify the bill denomination ($1.00, $5.00 and $10.00). (5 pts)\n",
    "  <li> Use your function into each if statements. (2 pts)\n",
    "  <li> Your new code must print the change in penny (one-cent) and the number of stamps. (2 pts.)\n",
    "</ol>"
   ]
  },
  {
   "cell_type": "code",
   "execution_count": null,
   "metadata": {},
   "outputs": [],
   "source": [
    "#Write your function here"
   ]
  },
  {
   "cell_type": "code",
   "execution_count": null,
   "metadata": {},
   "outputs": [],
   "source": [
    "#Write your whole program here."
   ]
  },
  {
   "cell_type": "markdown",
   "metadata": {},
   "source": [
    "### Problem #4 (10 pts)\n",
    "Given the following tabe Working Age Population. Do the following task;\n",
    "<ol>\n",
    "  <li> Create a list with the information given in the table **Working Age Population**. (3 pts)\n",
    "  <li> Create a DataFrame from the created list. (2 pts)\n",
    "  <li> Create a new Column called \"Average-age\" and compute the average of the ages from each row. For example, the first value of that \n",
    "  colum will be 63.55. (5 pts)\n",
    "  <li> Print your DataFrame. (2 pts)  \n",
    "</ol>\n",
    "\n",
    "**Working Age Population**\n",
    "<style type=\"text/css\">\n",
    ".tg  {border-collapse:collapse;border-spacing:0;}\n",
    ".tg td{border-color:black;border-style:solid;border-width:1px;font-family:Arial, sans-serif;font-size:14px;\n",
    "  overflow:hidden;padding:10px 5px;word-break:normal;}\n",
    ".tg th{border-color:black;border-style:solid;border-width:1px;font-family:Arial, sans-serif;font-size:14px;\n",
    "  font-weight:normal;overflow:hidden;padding:10px 5px;word-break:normal;}\n",
    ".tg .tg-fymr{border-color:inherit;font-weight:bold;text-align:left;vertical-align:top}\n",
    ".tg .tg-0pky{border-color:inherit;text-align:left;vertical-align:top}\n",
    "</style>\n",
    "<table class=\"tg\">\n",
    "<thead>\n",
    "  <tr>\n",
    "    <th class=\"tg-fymr\"></th>\n",
    "    <th class=\"tg-fymr\">1970</th>\n",
    "    <th class=\"tg-fymr\">1971</th>\n",
    "    <th class=\"tg-fymr\">1972</th>\n",
    "    <th class=\"tg-fymr\">1973</th>\n",
    "  </tr>\n",
    "</thead>\n",
    "<tbody>\n",
    "  <tr>\n",
    "    <td class=\"tg-fymr\">Argentina</td>\n",
    "    <td class=\"tg-0pky\">63.7</td>\n",
    "    <td class=\"tg-0pky\">63.6</td>\n",
    "    <td class=\"tg-0pky\">63.5</td>\n",
    "    <td class=\"tg-0pky\">63.4</td>\n",
    "  </tr>\n",
    "  <tr>\n",
    "    <td class=\"tg-fymr\">Austrlia</td>\n",
    "    <td class=\"tg-0pky\">62.8</td>\n",
    "    <td class=\"tg-0pky\">63.0</td>\n",
    "    <td class=\"tg-0pky\">63.1</td>\n",
    "    <td class=\"tg-0pky\">63.3</td>\n",
    "  </tr>\n",
    "  <tr>\n",
    "    <td class=\"tg-fymr\">Belgium</td>\n",
    "    <td class=\"tg-0pky\">61.6</td>\n",
    "    <td class=\"tg-0pky\">61.5</td>\n",
    "    <td class=\"tg-0pky\">61.5</td>\n",
    "    <td class=\"tg-0pky\">61.5</td>\n",
    "  </tr>\n",
    "  <tr>\n",
    "    <td class=\"tg-fymr\">Brazil</td>\n",
    "    <td class=\"tg-0pky\">54.4</td>\n",
    "    <td class=\"tg-0pky\">54.7</td>\n",
    "    <td class=\"tg-0pky\">55.0</td>\n",
    "    <td class=\"tg-0pky\">55.7</td>\n",
    "  </tr>\n",
    "  <tr>\n",
    "    <td class=\"tg-fymr\">Canada</td>\n",
    "    <td class=\"tg-0pky\">62.1</td>\n",
    "    <td class=\"tg-0pky\">62.7</td>\n",
    "    <td class=\"tg-0pky\">64.0</td>\n",
    "    <td class=\"tg-0pky\">64.7</td>\n",
    "  </tr>\n",
    "</tbody>\n",
    "</table>\n",
    "\n"
   ]
  },
  {
   "cell_type": "code",
   "execution_count": null,
   "metadata": {},
   "outputs": [],
   "source": [
    "# Create your table here"
   ]
  },
  {
   "cell_type": "code",
   "execution_count": null,
   "metadata": {},
   "outputs": [],
   "source": [
    "# Create your DataFrame here"
   ]
  },
  {
   "cell_type": "code",
   "execution_count": null,
   "metadata": {},
   "outputs": [],
   "source": [
    "# Add the New column here and print your DataFrame"
   ]
  },
  {
   "cell_type": "markdown",
   "metadata": {},
   "source": [
    "### Problem #5 (15 pts)\n",
    "\n",
    "Load the given image to your jupyther-notebook using the requiered packgue and do the following task;\n",
    "<ol>\n",
    "    <li> Print the three channels of your image one next to the other. (5 pts.)\n",
    "    <li> Apply a median Blur Filter to the given image and print the original image and the blur image. (10 pts) \n",
    "</ol>\n",
    "\n"
   ]
  },
  {
   "cell_type": "code",
   "execution_count": null,
   "metadata": {},
   "outputs": [],
   "source": [
    "# Print here the channels of your image"
   ]
  },
  {
   "cell_type": "code",
   "execution_count": null,
   "metadata": {},
   "outputs": [],
   "source": [
    "# Apply the filter here and print the original and blur image."
   ]
  },
  {
   "cell_type": "markdown",
   "metadata": {},
   "source": [
    "### Problem #6 (17 pts)\n",
    "\n",
    "Find the solution to the following system of equation.\n",
    "$$2x + 5y + 2z = -38 $$\n",
    "$$3x - 2y + 4z = 17 $$\n",
    "$$-6x + y - 7z = -12$$\n",
    "\n",
    "<ol>\n",
    "  <li> Transform the system equation into a matrix form; create your matrix A and your vector b. (6 pts)\n",
    "  <li> Compute the determinand of the matrix to find possile solutions. (3 pts)\n",
    "  <li> Compute the inverse of the matrix. (3 pts)\n",
    "  <li> solve the system. (5 pts)\n",
    "</ol>"
   ]
  },
  {
   "cell_type": "code",
   "execution_count": null,
   "metadata": {},
   "outputs": [],
   "source": [
    "A= 2 5 2\n",
    "   3 2 4\n",
    "   6 1 7 \n",
    "\n",
    "B= -38\n",
    "    17\n",
    "    -12\n",
    "\n",
    "Determinant = -4\n",
    "inverse = -4/2 =  -2\n"
   ]
  }
 ],
 "metadata": {
  "kernelspec": {
   "display_name": "Python 3.9.5 64-bit",
   "language": "python",
   "name": "python3"
  },
  "language_info": {
   "codemirror_mode": {
    "name": "ipython",
    "version": 3
   },
   "file_extension": ".py",
   "mimetype": "text/x-python",
   "name": "python",
   "nbconvert_exporter": "python",
   "pygments_lexer": "ipython3",
   "version": "3.9.5"
  },
  "orig_nbformat": 4,
  "vscode": {
   "interpreter": {
    "hash": "c978bfa0b75344263bbb7b06b14116b5bf1d3ff940a473397e557bcac92dd6c9"
   }
  }
 },
 "nbformat": 4,
 "nbformat_minor": 2
}
