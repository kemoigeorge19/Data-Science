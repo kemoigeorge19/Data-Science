{
 "cells": [
  {
   "cell_type": "code",
   "execution_count": 1,
   "metadata": {},
   "outputs": [],
   "source": [
    "import numpy as np "
   ]
  },
  {
   "cell_type": "code",
   "execution_count": 6,
   "metadata": {},
   "outputs": [
    {
     "name": "stdout",
     "output_type": "stream",
     "text": [
      "[[1 5 6]\n",
      " [8 5 9]\n",
      " [1 0 3]] \n",
      "\n",
      "[[12 20 -3]\n",
      " [ 5 -8  5]\n",
      " [ 6  9 17]]\n"
     ]
    }
   ],
   "source": [
    "#Create two square matrix, ( use brackets to create rows) ('\\n' prints a jump)\n",
    "\n",
    "x = np.array([[1,5,6],[8,5,9],[1,0,3]])\n",
    "z = np.array([[12,20,-3],[5,-8,5],[6,9,17]])\n",
    "\n",
    "print(x,'\\n')\n",
    "print(z)"
   ]
  },
  {
   "cell_type": "code",
   "execution_count": 7,
   "metadata": {},
   "outputs": [
    {
     "name": "stdout",
     "output_type": "stream",
     "text": [
      "[[13 25  3]\n",
      " [13 -3 14]\n",
      " [ 7  9 20]] \n",
      "\n",
      "[[-11 -15   9]\n",
      " [  3  13   4]\n",
      " [ -5  -9 -14]] \n",
      "\n"
     ]
    }
   ],
   "source": [
    "# Add and subtract the matrixes x and z \n",
    "\n",
    "r_added = x.__add__(z)\n",
    "r_sub = x.__sub__(z)\n",
    "\n",
    "print(r_added,'\\n')\n",
    "print(r_sub,'\\n')"
   ]
  },
  {
   "cell_type": "code",
   "execution_count": 8,
   "metadata": {},
   "outputs": [
    {
     "name": "stdout",
     "output_type": "stream",
     "text": [
      "[[ 12 100 -18]\n",
      " [ 40 -40  45]\n",
      " [  6   0  51]] \n",
      "\n",
      "[[ 73  34 124]\n",
      " [175 201 154]\n",
      " [ 30  47  48]]\n"
     ]
    }
   ],
   "source": [
    "#Piecewise multiplication and multiplication of two matrixes \n",
    "#(matmul is mathematic multiplication) (mul is just multiplication)\n",
    "#matmul takes the first row and multiplicates it with the first column\n",
    "\n",
    "r_piecewise = x.__mul__(z)\n",
    "\n",
    "r_mul = x.__matmul__(z)\n",
    "\n",
    "print(r_piecewise,'\\n')\n",
    "print(r_mul)"
   ]
  },
  {
   "cell_type": "code",
   "execution_count": 15,
   "metadata": {},
   "outputs": [],
   "source": [
    "# 1x + 1y = 2 and 10x + 35y = 30 ( Brackets establish rows)\n",
    "\n",
    "A = np.array([[1, 1],[10, 35]])\n",
    "B = np.array([[2],[30]])"
   ]
  },
  {
   "cell_type": "code",
   "execution_count": 16,
   "metadata": {},
   "outputs": [
    {
     "name": "stdout",
     "output_type": "stream",
     "text": [
      "dim. of matrix A = (2, 2)\n",
      "dim. of vector b = (2, 1)\n"
     ]
    }
   ],
   "source": [
    "#Verify size of the matrix A and B (DImensions)\n",
    "\n",
    "print('dim. of matrix A =' ,A.shape)\n",
    "print('dim. of vector b =' ,B.shape)"
   ]
  },
  {
   "cell_type": "code",
   "execution_count": 17,
   "metadata": {},
   "outputs": [
    {
     "data": {
      "text/plain": [
       "25.000000000000007"
      ]
     },
     "execution_count": 17,
     "metadata": {},
     "output_type": "execute_result"
    }
   ],
   "source": [
    "# Find the det(A)\n",
    "\n",
    "np.linalg.det(A)"
   ]
  },
  {
   "cell_type": "code",
   "execution_count": 18,
   "metadata": {},
   "outputs": [
    {
     "name": "stdout",
     "output_type": "stream",
     "text": [
      "[[ 1.4  -0.04]\n",
      " [-0.4   0.04]]\n"
     ]
    }
   ],
   "source": [
    "# Find the inverse of det(A)\n",
    "\n",
    "inv_A = np.linalg.inv(A)\n",
    "print(inv_A)"
   ]
  },
  {
   "cell_type": "code",
   "execution_count": 19,
   "metadata": {},
   "outputs": [
    {
     "name": "stdout",
     "output_type": "stream",
     "text": [
      "[[1.6]\n",
      " [0.4]]\n"
     ]
    }
   ],
   "source": [
    "#FInding the solution for x and y \n",
    "\n",
    "solution = inv_A.dot(B)\n",
    "print(solution)"
   ]
  },
  {
   "cell_type": "code",
   "execution_count": 20,
   "metadata": {},
   "outputs": [
    {
     "name": "stdout",
     "output_type": "stream",
     "text": [
      "2.0 \n",
      "\n",
      "30.0 \n",
      "\n"
     ]
    }
   ],
   "source": [
    "#verify our results 1x+1y=2 anf 10x+35y=30\n",
    "\n",
    "print(1*1.6 + 1*0.4, '\\n')\n",
    "\n",
    "print(10*1.6 + 35*0.4, '\\n')"
   ]
  }
 ],
 "metadata": {
  "kernelspec": {
   "display_name": "Python 3.9.5 64-bit",
   "language": "python",
   "name": "python3"
  },
  "language_info": {
   "codemirror_mode": {
    "name": "ipython",
    "version": 3
   },
   "file_extension": ".py",
   "mimetype": "text/x-python",
   "name": "python",
   "nbconvert_exporter": "python",
   "pygments_lexer": "ipython3",
   "version": "3.9.5"
  },
  "orig_nbformat": 4,
  "vscode": {
   "interpreter": {
    "hash": "c978bfa0b75344263bbb7b06b14116b5bf1d3ff940a473397e557bcac92dd6c9"
   }
  }
 },
 "nbformat": 4,
 "nbformat_minor": 2
}
